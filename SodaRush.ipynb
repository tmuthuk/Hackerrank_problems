{
  "nbformat": 4,
  "nbformat_minor": 0,
  "metadata": {
    "colab": {
      "name": "SodaRush.ipynb",
      "provenance": [],
      "authorship_tag": "ABX9TyPYhLtmViNDS5XCVz6viexj",
      "include_colab_link": true
    },
    "kernelspec": {
      "name": "python3",
      "display_name": "Python 3"
    },
    "language_info": {
      "name": "python"
    }
  },
  "cells": [
    {
      "cell_type": "markdown",
      "metadata": {
        "id": "view-in-github",
        "colab_type": "text"
      },
      "source": [
        "<a href=\"https://colab.research.google.com/github/tmuthuk/Hackerrank_problems/blob/master/SodaRush.ipynb\" target=\"_parent\"><img src=\"https://colab.research.google.com/assets/colab-badge.svg\" alt=\"Open In Colab\"/></a>"
      ]
    },
    {
      "cell_type": "markdown",
      "metadata": {
        "id": "Fs5wzCzzxTO5"
      },
      "source": [
        "# Infosys HackWithInfy Problem #1\n",
        "##Soda Rush\n",
        "\n",
        "Dani has a particular method of filling the cups. He choses a certain amount, say M, and fills all the cups with M liters of soda. If  the cup's capacity is less than M, the extra soda overflows and splatters the ground.\n",
        "\n",
        "It is given that Dani wants a sum of the soda that held in the cups to be at least L. He also wants the least amount of soda to be wasted.\n",
        "\n",
        "Your task is to tell Dani the smallest value of M that allows him to meet the conditions given above. If no value ofM meets the given condition,output -1.\n",
        "\n",
        "**Input Format**\n",
        "\n",
        " - The first line contains an integer, N, denoting the number of elements in x (the number of cups).\n",
        "\n",
        "- The next line contains an integer, L, denoting the minimum amount of soda in the cups.\n",
        "- Each line *i* of the N subsequent lines (where 0<= i < N) contains an integer describing x[i] (cup i's capacity).\n",
        "\n",
        "*Sample Input 0*\n",
        "\n",
        "\n",
        "```\n",
        "3\n",
        "15\n",
        "2\n",
        "2\n",
        "2\n",
        "```\n",
        "\n",
        "\n",
        "*Sample Output 0*\n",
        "\n",
        "```\n",
        "-1\n",
        "```\n",
        "\n",
        "*Explanation 0*\n",
        "\n",
        "  Here even if we fill all the cups to the max, it still wouldn't be enough. So there is no solution\n",
        "\n",
        "\n",
        "*Sample Input 1*\n",
        "\n",
        "```\n",
        "5\n",
        "10\n",
        "3\n",
        "3\n",
        "4\n",
        "4\n",
        "5\n",
        "```\n",
        "*Sample Output 1*\n",
        "\n",
        "```\n",
        "2\n",
        "```\n",
        "\n",
        "*Explanation 1*\n",
        "\n",
        "Since we hace 5 cups, we can fill each one with 2 liters of soda and we would get 10 liters of soda as a sum, without wasting any soda.\n",
        "\n",
        "*Sample Input 2*\n",
        "\n",
        "```\n",
        "5\n",
        "16\n",
        "3\n",
        "3\n",
        "4\n",
        "4\n",
        "5\n",
        "```\n",
        "\n",
        "*Sample Output 2*\n",
        "\n",
        "```\n",
        "4\n",
        "```\n",
        "\n",
        "*Explanation 2*\n",
        "\n",
        "If we pour 4 liters in each cup, we waste 2 liters from the first 2. Therefore, we get 18 liters of soda and we waste 2. Note that filling only 3 liters in each cup would give us 15 liters as a sum which is less than minimum soda required, L.\n"
      ]
    },
    {
      "cell_type": "code",
      "metadata": {
        "id": "yGvcLjzwxSV5"
      },
      "source": [
        "def check_soda(n, L, cups):\n",
        "    overflow = 0\n",
        "    max_quantity = sum(cups)\n",
        "    minimum_in_a_cup = L//n\n",
        "    if(L>max_quantity):\n",
        "        return -1\n",
        "        \n",
        "    prod = n*minimum_in_a_cup \n",
        "    while(prod<L):\n",
        "        minimum_in_a_cup+=1\n",
        "        prod = n*minimum_in_a_cup\n",
        "\n",
        "    #total without overflow\n",
        "    total = minimum_in_a_cup*n\n",
        "    \n",
        "    #calculating overflow\n",
        "    for i in cups:\n",
        "        if(i<minimum_in_a_cup):\n",
        "            overflow += minimum_in_a_cup - i\n",
        "    #deducting overfow\n",
        "    total-=overflow\n",
        "    if(total>=L):\n",
        "        return minimum_in_a_cup\n",
        "    return -1"
      ],
      "execution_count": 1,
      "outputs": []
    },
    {
      "cell_type": "code",
      "metadata": {
        "id": "5dEEdUn7wc14"
      },
      "source": [
        "n = int(input())\n",
        "L = int(input())\n",
        "cups = list(map(int, input().split()))\n",
        "print(check_soda(n, L, cups))"
      ],
      "execution_count": null,
      "outputs": []
    }
  ]
}